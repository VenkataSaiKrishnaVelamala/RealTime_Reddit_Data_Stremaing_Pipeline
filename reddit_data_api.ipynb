{
 "cells": [
  {
   "cell_type": "code",
   "execution_count": 4,
   "metadata": {},
   "outputs": [
    {
     "name": "stdout",
     "output_type": "stream",
     "text": [
      "Collecting praw\n",
      "  Obtaining dependency information for praw from https://files.pythonhosted.org/packages/81/6a/21bc058bcccbe03f6a0895bf1bd60c805f0c526aa4e9bfaac775ed0b299c/praw-7.7.1-py3-none-any.whl.metadata\n",
      "  Downloading praw-7.7.1-py3-none-any.whl.metadata (9.8 kB)\n",
      "Collecting prawcore<3,>=2.1 (from praw)\n",
      "  Obtaining dependency information for prawcore<3,>=2.1 from https://files.pythonhosted.org/packages/96/5c/8af904314e42d5401afcfaff69940dc448e974f80f7aa39b241a4fbf0cf1/prawcore-2.4.0-py3-none-any.whl.metadata\n",
      "  Downloading prawcore-2.4.0-py3-none-any.whl.metadata (5.0 kB)\n",
      "Collecting update-checker>=0.18 (from praw)\n",
      "  Obtaining dependency information for update-checker>=0.18 from https://files.pythonhosted.org/packages/0c/ba/8dd7fa5f0b1c6a8ac62f8f57f7e794160c1f86f31c6d0fb00f582372a3e4/update_checker-0.18.0-py3-none-any.whl.metadata\n",
      "  Downloading update_checker-0.18.0-py3-none-any.whl.metadata (2.3 kB)\n",
      "Collecting websocket-client>=0.54.0 (from praw)\n",
      "  Obtaining dependency information for websocket-client>=0.54.0 from https://files.pythonhosted.org/packages/1e/70/1e88138a9afbed1d37093b85f0bebc3011623c4f47c166431599fe9d6c93/websocket_client-1.7.0-py3-none-any.whl.metadata\n",
      "  Downloading websocket_client-1.7.0-py3-none-any.whl.metadata (7.9 kB)\n",
      "Requirement already satisfied: requests<3.0,>=2.6.0 in /Library/Frameworks/Python.framework/Versions/3.11/lib/python3.11/site-packages (from prawcore<3,>=2.1->praw) (2.31.0)\n",
      "Requirement already satisfied: charset-normalizer<4,>=2 in /Library/Frameworks/Python.framework/Versions/3.11/lib/python3.11/site-packages (from requests<3.0,>=2.6.0->prawcore<3,>=2.1->praw) (3.3.2)\n",
      "Requirement already satisfied: idna<4,>=2.5 in /Library/Frameworks/Python.framework/Versions/3.11/lib/python3.11/site-packages (from requests<3.0,>=2.6.0->prawcore<3,>=2.1->praw) (3.6)\n",
      "Requirement already satisfied: urllib3<3,>=1.21.1 in /Library/Frameworks/Python.framework/Versions/3.11/lib/python3.11/site-packages (from requests<3.0,>=2.6.0->prawcore<3,>=2.1->praw) (2.2.0)\n",
      "Requirement already satisfied: certifi>=2017.4.17 in /Library/Frameworks/Python.framework/Versions/3.11/lib/python3.11/site-packages (from requests<3.0,>=2.6.0->prawcore<3,>=2.1->praw) (2024.2.2)\n",
      "Downloading praw-7.7.1-py3-none-any.whl (191 kB)\n",
      "\u001b[2K   \u001b[90m━━━━━━━━━━━━━━━━━━━━━━━━━━━━━━━━━━━━━━━━\u001b[0m \u001b[32m191.0/191.0 kB\u001b[0m \u001b[31m9.9 MB/s\u001b[0m eta \u001b[36m0:00:00\u001b[0m\n",
      "\u001b[?25hDownloading prawcore-2.4.0-py3-none-any.whl (17 kB)\n",
      "Downloading update_checker-0.18.0-py3-none-any.whl (7.0 kB)\n",
      "Downloading websocket_client-1.7.0-py3-none-any.whl (58 kB)\n",
      "\u001b[2K   \u001b[90m━━━━━━━━━━━━━━━━━━━━━━━━━━━━━━━━━━━━━━━━\u001b[0m \u001b[32m58.5/58.5 kB\u001b[0m \u001b[31m6.4 MB/s\u001b[0m eta \u001b[36m0:00:00\u001b[0m\n",
      "\u001b[?25hInstalling collected packages: websocket-client, update-checker, prawcore, praw\n",
      "Successfully installed praw-7.7.1 prawcore-2.4.0 update-checker-0.18.0 websocket-client-1.7.0\n",
      "\n",
      "\u001b[1m[\u001b[0m\u001b[34;49mnotice\u001b[0m\u001b[1;39;49m]\u001b[0m\u001b[39;49m A new release of pip is available: \u001b[0m\u001b[31;49m23.2.1\u001b[0m\u001b[39;49m -> \u001b[0m\u001b[32;49m24.0\u001b[0m\n",
      "\u001b[1m[\u001b[0m\u001b[34;49mnotice\u001b[0m\u001b[1;39;49m]\u001b[0m\u001b[39;49m To update, run: \u001b[0m\u001b[32;49mpip3 install --upgrade pip\u001b[0m\n"
     ]
    }
   ],
   "source": [
    "! pip3 install praw"
   ]
  },
  {
   "cell_type": "code",
   "execution_count": 3,
   "metadata": {},
   "outputs": [
    {
     "name": "stdout",
     "output_type": "stream",
     "text": [
      "Collecting kafka\n",
      "  Obtaining dependency information for kafka from https://files.pythonhosted.org/packages/21/71/73286e748ac5045b6a669c2fe44b03ac4c5d3d2af9291c4c6fc76438a9a9/kafka-1.3.5-py2.py3-none-any.whl.metadata\n",
      "  Downloading kafka-1.3.5-py2.py3-none-any.whl.metadata (6.9 kB)\n",
      "Downloading kafka-1.3.5-py2.py3-none-any.whl (207 kB)\n",
      "\u001b[2K   \u001b[90m━━━━━━━━━━━━━━━━━━━━━━━━━━━━━━━━━━━━━━━━\u001b[0m \u001b[32m207.2/207.2 kB\u001b[0m \u001b[31m8.4 MB/s\u001b[0m eta \u001b[36m0:00:00\u001b[0m\n",
      "\u001b[?25hInstalling collected packages: kafka\n",
      "Successfully installed kafka-1.3.5\n",
      "\n",
      "\u001b[1m[\u001b[0m\u001b[34;49mnotice\u001b[0m\u001b[1;39;49m]\u001b[0m\u001b[39;49m A new release of pip is available: \u001b[0m\u001b[31;49m23.2.1\u001b[0m\u001b[39;49m -> \u001b[0m\u001b[32;49m24.0\u001b[0m\n",
      "\u001b[1m[\u001b[0m\u001b[34;49mnotice\u001b[0m\u001b[1;39;49m]\u001b[0m\u001b[39;49m To update, run: \u001b[0m\u001b[32;49mpip3 install --upgrade pip\u001b[0m\n"
     ]
    }
   ],
   "source": [
    "! pip3 install kafka\n"
   ]
  },
  {
   "cell_type": "code",
   "execution_count": 5,
   "metadata": {},
   "outputs": [],
   "source": [
    "import praw"
   ]
  },
  {
   "cell_type": "code",
   "execution_count": 10,
   "metadata": {},
   "outputs": [
    {
     "name": "stdout",
     "output_type": "stream",
     "text": [
      "Collecting kafka-python\n",
      "  Downloading kafka_python-2.0.2-py2.py3-none-any.whl.metadata (7.8 kB)\n",
      "Downloading kafka_python-2.0.2-py2.py3-none-any.whl (246 kB)\n",
      "\u001b[2K   \u001b[90m━━━━━━━━━━━━━━━━━━━━━━━━━━━━━━━━━━━━━━━━\u001b[0m \u001b[32m246.5/246.5 kB\u001b[0m \u001b[31m8.6 MB/s\u001b[0m eta \u001b[36m0:00:00\u001b[0m\n",
      "\u001b[?25hInstalling collected packages: kafka-python\n",
      "Successfully installed kafka-python-2.0.2\n"
     ]
    }
   ],
   "source": [
    "! pip install kafka-python\n"
   ]
  },
  {
   "cell_type": "code",
   "execution_count": 13,
   "metadata": {},
   "outputs": [
    {
     "name": "stdout",
     "output_type": "stream",
     "text": [
      "Found existing installation: kafka 1.3.5\n",
      "Uninstalling kafka-1.3.5:\n",
      "  Would remove:\n",
      "    /opt/anaconda3/lib/python3.11/site-packages/kafka-1.3.5.dist-info/*\n",
      "    /opt/anaconda3/lib/python3.11/site-packages/kafka/*\n",
      "  Would not remove (might be manually added):\n",
      "    /opt/anaconda3/lib/python3.11/site-packages/kafka/admin/__init__.py\n",
      "    /opt/anaconda3/lib/python3.11/site-packages/kafka/admin/acl_resource.py\n",
      "    /opt/anaconda3/lib/python3.11/site-packages/kafka/admin/client.py\n",
      "    /opt/anaconda3/lib/python3.11/site-packages/kafka/admin/config_resource.py\n",
      "    /opt/anaconda3/lib/python3.11/site-packages/kafka/admin/new_partitions.py\n",
      "    /opt/anaconda3/lib/python3.11/site-packages/kafka/admin/new_topic.py\n",
      "    /opt/anaconda3/lib/python3.11/site-packages/kafka/coordinator/assignors/sticky/__init__.py\n",
      "    /opt/anaconda3/lib/python3.11/site-packages/kafka/coordinator/assignors/sticky/partition_movements.py\n",
      "    /opt/anaconda3/lib/python3.11/site-packages/kafka/coordinator/assignors/sticky/sorted_set.py\n",
      "    /opt/anaconda3/lib/python3.11/site-packages/kafka/coordinator/assignors/sticky/sticky_assignor.py\n",
      "    /opt/anaconda3/lib/python3.11/site-packages/kafka/oauth/__init__.py\n",
      "    /opt/anaconda3/lib/python3.11/site-packages/kafka/oauth/abstract.py\n",
      "    /opt/anaconda3/lib/python3.11/site-packages/kafka/protocol/parser.py\n",
      "    /opt/anaconda3/lib/python3.11/site-packages/kafka/record/__init__.py\n",
      "    /opt/anaconda3/lib/python3.11/site-packages/kafka/record/_crc32c.py\n",
      "    /opt/anaconda3/lib/python3.11/site-packages/kafka/record/abc.py\n",
      "    /opt/anaconda3/lib/python3.11/site-packages/kafka/record/default_records.py\n",
      "    /opt/anaconda3/lib/python3.11/site-packages/kafka/record/legacy_records.py\n",
      "    /opt/anaconda3/lib/python3.11/site-packages/kafka/record/memory_records.py\n",
      "    /opt/anaconda3/lib/python3.11/site-packages/kafka/record/util.py\n",
      "    /opt/anaconda3/lib/python3.11/site-packages/kafka/scram.py\n",
      "    /opt/anaconda3/lib/python3.11/site-packages/kafka/vendor/enum34.py\n",
      "Proceed (Y/n)? ^C\n",
      "\u001b[31mERROR: Operation cancelled by user\u001b[0m\u001b[31m\n",
      "\u001b[0m"
     ]
    }
   ],
   "source": [
    "! pip uninstall kafka\n"
   ]
  },
  {
   "cell_type": "code",
   "execution_count": 3,
   "metadata": {},
   "outputs": [],
   "source": [
    "import praw\n",
    "from kafka import KafkaProducer\n",
    "\n",
    "import json\n",
    "import time"
   ]
  },
  {
   "cell_type": "code",
   "execution_count": 4,
   "metadata": {},
   "outputs": [],
   "source": [
    "reddit = praw.Reddit(\n",
    "    client_id='PKIShrCUOkF56laMZtAUTQ',\n",
    "    client_secret='i-lygrIraIzh85Fvn1RG5xLFcZEGbw',\n",
    "    user_agent='my_sentiment_analysis by u/SuperWishbone6330',\n",
    "    #username='u/SuperWishbone6330',\n",
    "    #password='Sujani@69'\n",
    ")"
   ]
  },
  {
   "cell_type": "code",
   "execution_count": 20,
   "metadata": {},
   "outputs": [],
   "source": [
    "import kafka"
   ]
  },
  {
   "cell_type": "code",
   "execution_count": 1,
   "metadata": {},
   "outputs": [
    {
     "name": "stdout",
     "output_type": "stream",
     "text": [
      "Name: kafka-python\n",
      "Version: 2.0.2\n",
      "Summary: Pure Python client for Apache Kafka\n",
      "Home-page: https://github.com/dpkp/kafka-python\n",
      "Author: Dana Powers\n",
      "Author-email: dana.powers@gmail.com\n",
      "License: Apache License 2.0\n",
      "Location: /opt/anaconda3/lib/python3.11/site-packages\n",
      "Requires: \n",
      "Required-by: \n"
     ]
    }
   ],
   "source": [
    "! pip show kafka-python\n"
   ]
  },
  {
   "cell_type": "code",
   "execution_count": 4,
   "metadata": {},
   "outputs": [],
   "source": [
    "from confluent_kafka import Producer\n",
    "\n",
    "config = {\n",
    "    'bootstrap.servers': 'pkc-56d1g.eastus.azure.confluent.cloud:9092',\n",
    "    'security.protocol': 'SASL_SSL',\n",
    "    'sasl.mechanism': 'PLAIN',\n",
    "    'sasl.username': 'H35D7ED7PN74YGWT',\n",
    "    'sasl.password': 'DMrW+RwSTk5YVnYvGufbv0K6fSCn0TF9ODJr4TfA9l4FTF3slrs3zUDYTUmDir2i',\n",
    "    'ssl.endpoint.identification.algorithm': 'https',\n",
    "}\n",
    "\n",
    "producer = Producer(**config)"
   ]
  },
  {
   "cell_type": "code",
   "execution_count": 3,
   "metadata": {},
   "outputs": [],
   "source": [
    "from confluent_kafka import Producer\n"
   ]
  },
  {
   "cell_type": "code",
   "execution_count": 14,
   "metadata": {},
   "outputs": [
    {
     "name": "stdout",
     "output_type": "stream",
     "text": [
      "Sent to Kafka: {'title': 'Tweets going straight to drafts, can’t follow anyone', 'url': 'https://i.redd.it/bz8bl0gen9mc1.jpeg', 'created_utc': 1709535721.0, 'author': 'anonpetal', 'score': 2}\n",
      "Sent to Kafka: {'title': 'Twitter app not updating profile retweets', 'url': 'https://www.reddit.com/r/Twitter/comments/1b63rz8/twitter_app_not_updating_profile_retweets/', 'created_utc': 1709532729.0, 'author': 'AvanLe', 'score': 1}\n",
      "Sent to Kafka: {'title': 'Social media platform without political discussions or \"recommendations\"?', 'url': 'https://www.reddit.com/r/Twitter/comments/1b5wc0u/social_media_platform_without_political/', 'created_utc': 1709510416.0, 'author': 'InfinityLife', 'score': 6}\n",
      "Sent to Kafka: {'title': 'Went to try to change my timeline settings, and now it just sends you to this list of your pinned stuff', 'url': 'https://i.redd.it/fvyyyrh477mc1.png', 'created_utc': 1709506032.0, 'author': 'Mashidae', 'score': 1}\n",
      "Sent to Kafka: {'title': 'If an account is shadowbanned (temporary label, that won’t go away) could I make a new account or will that just be shadow banned too?', 'url': 'https://www.reddit.com/r/Twitter/comments/1b5sl7d/if_an_account_is_shadowbanned_temporary_label/', 'created_utc': 1709501276.0, 'author': 'Exciting-Function840', 'score': 1}\n",
      "Sent to Kafka: {'title': 'How to gain followers?', 'url': 'https://www.reddit.com/r/Twitter/comments/1b5sdpl/how_to_gain_followers/', 'created_utc': 1709500761.0, 'author': 'jjcalifajoy', 'score': 0}\n",
      "Sent to Kafka: {'title': 'what does this error message mean?', 'url': 'https://i.redd.it/lo3r7qwnf6mc1.jpeg', 'created_utc': 1709496798.0, 'author': 'imnotcreative123123', 'score': 1}\n",
      "Sent to Kafka: {'title': 'Twitter automatically makes me leave groupchats', 'url': 'https://www.reddit.com/r/Twitter/comments/1b5ojpf/twitter_automatically_makes_me_leave_groupchats/', 'created_utc': 1709491639.0, 'author': 'xayeeto', 'score': 1}\n",
      "Sent to Kafka: {'title': 'Help pls I can’t change @', 'url': 'https://i.redd.it/ej22oemc06mc1.jpeg', 'created_utc': 1709491647.0, 'author': 'rudolphfn', 'score': 1}\n",
      "Sent to Kafka: {'title': \"I can't login to my account\", 'url': 'https://www.reddit.com/r/Twitter/comments/1b5nxao/i_cant_login_to_my_account/', 'created_utc': 1709490126.0, 'author': 'AdAsstraPerAspera', 'score': 1}\n",
      "Sent to Kafka: {'title': 'Tweets going straight to drafts, can’t follow anyone', 'url': 'https://i.redd.it/bz8bl0gen9mc1.jpeg', 'created_utc': 1709535721.0, 'author': 'anonpetal', 'score': 2}\n",
      "Sent to Kafka: {'title': 'Twitter app not updating profile retweets', 'url': 'https://www.reddit.com/r/Twitter/comments/1b63rz8/twitter_app_not_updating_profile_retweets/', 'created_utc': 1709532729.0, 'author': 'AvanLe', 'score': 1}\n",
      "Sent to Kafka: {'title': 'Social media platform without political discussions or \"recommendations\"?', 'url': 'https://www.reddit.com/r/Twitter/comments/1b5wc0u/social_media_platform_without_political/', 'created_utc': 1709510416.0, 'author': 'InfinityLife', 'score': 5}\n",
      "Sent to Kafka: {'title': 'Went to try to change my timeline settings, and now it just sends you to this list of your pinned stuff', 'url': 'https://i.redd.it/fvyyyrh477mc1.png', 'created_utc': 1709506032.0, 'author': 'Mashidae', 'score': 1}\n",
      "Sent to Kafka: {'title': 'If an account is shadowbanned (temporary label, that won’t go away) could I make a new account or will that just be shadow banned too?', 'url': 'https://www.reddit.com/r/Twitter/comments/1b5sl7d/if_an_account_is_shadowbanned_temporary_label/', 'created_utc': 1709501276.0, 'author': 'Exciting-Function840', 'score': 1}\n",
      "Sent to Kafka: {'title': 'How to gain followers?', 'url': 'https://www.reddit.com/r/Twitter/comments/1b5sdpl/how_to_gain_followers/', 'created_utc': 1709500761.0, 'author': 'jjcalifajoy', 'score': 0}\n",
      "Sent to Kafka: {'title': 'what does this error message mean?', 'url': 'https://i.redd.it/lo3r7qwnf6mc1.jpeg', 'created_utc': 1709496798.0, 'author': 'imnotcreative123123', 'score': 1}\n",
      "Sent to Kafka: {'title': 'Twitter automatically makes me leave groupchats', 'url': 'https://www.reddit.com/r/Twitter/comments/1b5ojpf/twitter_automatically_makes_me_leave_groupchats/', 'created_utc': 1709491639.0, 'author': 'xayeeto', 'score': 1}\n",
      "Sent to Kafka: {'title': 'Help pls I can’t change @', 'url': 'https://i.redd.it/ej22oemc06mc1.jpeg', 'created_utc': 1709491647.0, 'author': 'rudolphfn', 'score': 1}\n",
      "Sent to Kafka: {'title': \"I can't login to my account\", 'url': 'https://www.reddit.com/r/Twitter/comments/1b5nxao/i_cant_login_to_my_account/', 'created_utc': 1709490126.0, 'author': 'AdAsstraPerAspera', 'score': 1}\n",
      "Sent to Kafka: {'title': 'Tweets going straight to drafts, can’t follow anyone', 'url': 'https://i.redd.it/bz8bl0gen9mc1.jpeg', 'created_utc': 1709535721.0, 'author': 'anonpetal', 'score': 2}\n",
      "Sent to Kafka: {'title': 'Twitter app not updating profile retweets', 'url': 'https://www.reddit.com/r/Twitter/comments/1b63rz8/twitter_app_not_updating_profile_retweets/', 'created_utc': 1709532729.0, 'author': 'AvanLe', 'score': 1}\n",
      "Sent to Kafka: {'title': 'Social media platform without political discussions or \"recommendations\"?', 'url': 'https://www.reddit.com/r/Twitter/comments/1b5wc0u/social_media_platform_without_political/', 'created_utc': 1709510416.0, 'author': 'InfinityLife', 'score': 5}\n",
      "Sent to Kafka: {'title': 'Went to try to change my timeline settings, and now it just sends you to this list of your pinned stuff', 'url': 'https://i.redd.it/fvyyyrh477mc1.png', 'created_utc': 1709506032.0, 'author': 'Mashidae', 'score': 1}\n",
      "Sent to Kafka: {'title': 'If an account is shadowbanned (temporary label, that won’t go away) could I make a new account or will that just be shadow banned too?', 'url': 'https://www.reddit.com/r/Twitter/comments/1b5sl7d/if_an_account_is_shadowbanned_temporary_label/', 'created_utc': 1709501276.0, 'author': 'Exciting-Function840', 'score': 1}\n",
      "Sent to Kafka: {'title': 'How to gain followers?', 'url': 'https://www.reddit.com/r/Twitter/comments/1b5sdpl/how_to_gain_followers/', 'created_utc': 1709500761.0, 'author': 'jjcalifajoy', 'score': 0}\n",
      "Sent to Kafka: {'title': 'what does this error message mean?', 'url': 'https://i.redd.it/lo3r7qwnf6mc1.jpeg', 'created_utc': 1709496798.0, 'author': 'imnotcreative123123', 'score': 1}\n",
      "Sent to Kafka: {'title': 'Twitter automatically makes me leave groupchats', 'url': 'https://www.reddit.com/r/Twitter/comments/1b5ojpf/twitter_automatically_makes_me_leave_groupchats/', 'created_utc': 1709491639.0, 'author': 'xayeeto', 'score': 1}\n",
      "Sent to Kafka: {'title': 'Help pls I can’t change @', 'url': 'https://i.redd.it/ej22oemc06mc1.jpeg', 'created_utc': 1709491647.0, 'author': 'rudolphfn', 'score': 1}\n",
      "Sent to Kafka: {'title': \"I can't login to my account\", 'url': 'https://www.reddit.com/r/Twitter/comments/1b5nxao/i_cant_login_to_my_account/', 'created_utc': 1709490126.0, 'author': 'AdAsstraPerAspera', 'score': 1}\n",
      "Sent to Kafka: {'title': 'Tweets going straight to drafts, can’t follow anyone', 'url': 'https://i.redd.it/bz8bl0gen9mc1.jpeg', 'created_utc': 1709535721.0, 'author': 'anonpetal', 'score': 2}\n",
      "Sent to Kafka: {'title': 'Twitter app not updating profile retweets', 'url': 'https://www.reddit.com/r/Twitter/comments/1b63rz8/twitter_app_not_updating_profile_retweets/', 'created_utc': 1709532729.0, 'author': 'AvanLe', 'score': 1}\n",
      "Sent to Kafka: {'title': 'Social media platform without political discussions or \"recommendations\"?', 'url': 'https://www.reddit.com/r/Twitter/comments/1b5wc0u/social_media_platform_without_political/', 'created_utc': 1709510416.0, 'author': 'InfinityLife', 'score': 6}\n",
      "Sent to Kafka: {'title': 'Went to try to change my timeline settings, and now it just sends you to this list of your pinned stuff', 'url': 'https://i.redd.it/fvyyyrh477mc1.png', 'created_utc': 1709506032.0, 'author': 'Mashidae', 'score': 1}\n",
      "Sent to Kafka: {'title': 'If an account is shadowbanned (temporary label, that won’t go away) could I make a new account or will that just be shadow banned too?', 'url': 'https://www.reddit.com/r/Twitter/comments/1b5sl7d/if_an_account_is_shadowbanned_temporary_label/', 'created_utc': 1709501276.0, 'author': 'Exciting-Function840', 'score': 1}\n",
      "Sent to Kafka: {'title': 'How to gain followers?', 'url': 'https://www.reddit.com/r/Twitter/comments/1b5sdpl/how_to_gain_followers/', 'created_utc': 1709500761.0, 'author': 'jjcalifajoy', 'score': 0}\n",
      "Sent to Kafka: {'title': 'what does this error message mean?', 'url': 'https://i.redd.it/lo3r7qwnf6mc1.jpeg', 'created_utc': 1709496798.0, 'author': 'imnotcreative123123', 'score': 1}\n",
      "Sent to Kafka: {'title': 'Twitter automatically makes me leave groupchats', 'url': 'https://www.reddit.com/r/Twitter/comments/1b5ojpf/twitter_automatically_makes_me_leave_groupchats/', 'created_utc': 1709491639.0, 'author': 'xayeeto', 'score': 1}\n",
      "Sent to Kafka: {'title': 'Help pls I can’t change @', 'url': 'https://i.redd.it/ej22oemc06mc1.jpeg', 'created_utc': 1709491647.0, 'author': 'rudolphfn', 'score': 1}\n",
      "Sent to Kafka: {'title': \"I can't login to my account\", 'url': 'https://www.reddit.com/r/Twitter/comments/1b5nxao/i_cant_login_to_my_account/', 'created_utc': 1709490126.0, 'author': 'AdAsstraPerAspera', 'score': 1}\n"
     ]
    },
    {
     "ename": "KeyboardInterrupt",
     "evalue": "",
     "output_type": "error",
     "traceback": [
      "\u001b[0;31m---------------------------------------------------------------------------\u001b[0m",
      "\u001b[0;31mKeyboardInterrupt\u001b[0m                         Traceback (most recent call last)",
      "Cell \u001b[0;32mIn[14], line 34\u001b[0m\n\u001b[1;32m     32\u001b[0m \u001b[38;5;28;01mif\u001b[39;00m \u001b[38;5;18m__name__\u001b[39m \u001b[38;5;241m==\u001b[39m \u001b[38;5;124m\"\u001b[39m\u001b[38;5;124m__main__\u001b[39m\u001b[38;5;124m\"\u001b[39m:\n\u001b[1;32m     33\u001b[0m     subreddit_name \u001b[38;5;241m=\u001b[39m \u001b[38;5;124m'\u001b[39m\u001b[38;5;124mtwitter\u001b[39m\u001b[38;5;124m'\u001b[39m  \u001b[38;5;66;03m# Change this to your desired subreddit\u001b[39;00m\n\u001b[0;32m---> 34\u001b[0m     \u001b[43mfetch_and_push_to_kafka\u001b[49m\u001b[43m(\u001b[49m\u001b[43msubreddit_name\u001b[49m\u001b[43m)\u001b[49m\n",
      "Cell \u001b[0;32mIn[14], line 25\u001b[0m, in \u001b[0;36mfetch_and_push_to_kafka\u001b[0;34m(subreddit_name, num_posts, sleep_interval)\u001b[0m\n\u001b[1;32m     23\u001b[0m         producer\u001b[38;5;241m.\u001b[39mpoll(\u001b[38;5;241m1\u001b[39m)\n\u001b[1;32m     24\u001b[0m     \u001b[38;5;66;03m# Sleep for the specified interval before making the next request\u001b[39;00m\n\u001b[0;32m---> 25\u001b[0m     time\u001b[38;5;241m.\u001b[39msleep(sleep_interval)\n\u001b[1;32m     27\u001b[0m \u001b[38;5;28;01mexcept\u001b[39;00m \u001b[38;5;167;01mException\u001b[39;00m \u001b[38;5;28;01mas\u001b[39;00m e:\n\u001b[1;32m     28\u001b[0m     \u001b[38;5;28mprint\u001b[39m(\u001b[38;5;124mf\u001b[39m\u001b[38;5;124m\"\u001b[39m\u001b[38;5;124mError: \u001b[39m\u001b[38;5;132;01m{\u001b[39;00m\u001b[38;5;28mstr\u001b[39m(e)\u001b[38;5;132;01m}\u001b[39;00m\u001b[38;5;124m\"\u001b[39m)\n",
      "\u001b[0;31mKeyboardInterrupt\u001b[0m: "
     ]
    },
    {
     "name": "stderr",
     "output_type": "stream",
     "text": [
      "%3|1709586210.975|FAIL|rdkafka#producer-1| [thrd:sasl_ssl://b17-pkc-56d1g.eastus.azure.confluent.cloud:9092/17]: sasl_ssl://b17-pkc-56d1g.eastus.azure.confluent.cloud:9092/17: Failed to resolve 'b17-pkc-56d1g.eastus.azure.confluent.cloud:9092': nodename nor servname provided, or not known (after 648ms in state CONNECT)\n",
      "%3|1709586210.975|FAIL|rdkafka#producer-1| [thrd:sasl_ssl://b1-pkc-56d1g.eastus.azure.confluent.cloud:9092/1]: sasl_ssl://b1-pkc-56d1g.eastus.azure.confluent.cloud:9092/1: Failed to resolve 'b1-pkc-56d1g.eastus.azure.confluent.cloud:9092': nodename nor servname provided, or not known (after 1657ms in state CONNECT)\n",
      "%3|1709586210.976|FAIL|rdkafka#producer-1| [thrd:sasl_ssl://b3-pkc-56d1g.eastus.azure.confluent.cloud:9092/3]: sasl_ssl://b3-pkc-56d1g.eastus.azure.confluent.cloud:9092/3: Failed to resolve 'b3-pkc-56d1g.eastus.azure.confluent.cloud:9092': nodename nor servname provided, or not known (after 2661ms in state CONNECT)\n",
      "%3|1709586210.976|FAIL|rdkafka#producer-1| [thrd:sasl_ssl://b4-pkc-56d1g.eastus.azure.confluent.cloud:9092/4]: sasl_ssl://b4-pkc-56d1g.eastus.azure.confluent.cloud:9092/4: Failed to resolve 'b4-pkc-56d1g.eastus.azure.confluent.cloud:9092': nodename nor servname provided, or not known (after 4680ms in state CONNECT)\n",
      "%3|1709586210.978|FAIL|rdkafka#producer-1| [thrd:sasl_ssl://b0-pkc-56d1g.eastus.azure.confluent.cloud:9092/0]: sasl_ssl://b0-pkc-56d1g.eastus.azure.confluent.cloud:9092/0: Failed to resolve 'b0-pkc-56d1g.eastus.azure.confluent.cloud:9092': nodename nor servname provided, or not known (after 6687ms in state CONNECT)\n",
      "%3|1709586210.979|FAIL|rdkafka#producer-1| [thrd:sasl_ssl://b11-pkc-56d1g.eastus.azure.confluent.cloud:9092/11]: sasl_ssl://b11-pkc-56d1g.eastus.azure.confluent.cloud:9092/11: Failed to resolve 'b11-pkc-56d1g.eastus.azure.confluent.cloud:9092': nodename nor servname provided, or not known (after 8706ms in state CONNECT)\n",
      "%3|1709586210.979|FAIL|rdkafka#producer-1| [thrd:sasl_ssl://b6-pkc-56d1g.eastus.azure.confluent.cloud:9092/6]: sasl_ssl://b6-pkc-56d1g.eastus.azure.confluent.cloud:9092/6: Failed to resolve 'b6-pkc-56d1g.eastus.azure.confluent.cloud:9092': nodename nor servname provided, or not known (after 5683ms in state CONNECT)\n",
      "%3|1709586210.980|FAIL|rdkafka#producer-1| [thrd:sasl_ssl://b15-pkc-56d1g.eastus.azure.confluent.cloud:9092/15]: sasl_ssl://b15-pkc-56d1g.eastus.azure.confluent.cloud:9092/15: Failed to resolve 'b15-pkc-56d1g.eastus.azure.confluent.cloud:9092': nodename nor servname provided, or not known (after 3674ms in state CONNECT)\n",
      "%3|1709586210.980|FAIL|rdkafka#producer-1| [thrd:sasl_ssl://b12-pkc-56d1g.eastus.azure.confluent.cloud:9092/12]: sasl_ssl://b12-pkc-56d1g.eastus.azure.confluent.cloud:9092/12: Failed to resolve 'b12-pkc-56d1g.eastus.azure.confluent.cloud:9092': nodename nor servname provided, or not known (after 7698ms in state CONNECT)\n",
      "%3|1709586211.337|FAIL|rdkafka#producer-1| [thrd:sasl_ssl://b13-pkc-56d1g.eastus.azure.confluent.cloud:9092/13]: sasl_ssl://b13-pkc-56d1g.eastus.azure.confluent.cloud:9092/13: Failed to resolve 'b13-pkc-56d1g.eastus.azure.confluent.cloud:9092': nodename nor servname provided, or not known (after 1ms in state CONNECT)\n",
      "%3|1709586212.343|FAIL|rdkafka#producer-1| [thrd:sasl_ssl://b4-pkc-56d1g.eastus.azure.confluent.cloud:9092/4]: sasl_ssl://b4-pkc-56d1g.eastus.azure.confluent.cloud:9092/4: Failed to resolve 'b4-pkc-56d1g.eastus.azure.confluent.cloud:9092': nodename nor servname provided, or not known (after 1ms in state CONNECT, 1 identical error(s) suppressed)\n",
      "%3|1709586213.349|FAIL|rdkafka#producer-1| [thrd:sasl_ssl://b11-pkc-56d1g.eastus.azure.confluent.cloud:9092/11]: sasl_ssl://b11-pkc-56d1g.eastus.azure.confluent.cloud:9092/11: Failed to resolve 'b11-pkc-56d1g.eastus.azure.confluent.cloud:9092': nodename nor servname provided, or not known (after 1ms in state CONNECT, 1 identical error(s) suppressed)\n",
      "%3|1709586758.385|FAIL|rdkafka#producer-1| [thrd:sasl_ssl://b9-pkc-56d1g.eastus.azure.confluent.cloud:9092/9]: sasl_ssl://b9-pkc-56d1g.eastus.azure.confluent.cloud:9092/9: Failed to resolve 'b9-pkc-56d1g.eastus.azure.confluent.cloud:9092': nodename nor servname provided, or not known (after 6ms in state CONNECT)\n",
      "%3|1709586759.389|FAIL|rdkafka#producer-1| [thrd:sasl_ssl://b16-pkc-56d1g.eastus.azure.confluent.cloud:9092/16]: sasl_ssl://b16-pkc-56d1g.eastus.azure.confluent.cloud:9092/16: Failed to resolve 'b16-pkc-56d1g.eastus.azure.confluent.cloud:9092': nodename nor servname provided, or not known (after 1ms in state CONNECT)\n",
      "%3|1709586760.392|FAIL|rdkafka#producer-1| [thrd:sasl_ssl://b0-pkc-56d1g.eastus.azure.confluent.cloud:9092/0]: sasl_ssl://b0-pkc-56d1g.eastus.azure.confluent.cloud:9092/0: Failed to resolve 'b0-pkc-56d1g.eastus.azure.confluent.cloud:9092': nodename nor servname provided, or not known (after 1ms in state CONNECT, 1 identical error(s) suppressed)\n",
      "%3|1709586761.392|FAIL|rdkafka#producer-1| [thrd:sasl_ssl://b8-pkc-56d1g.eastus.azure.confluent.cloud:9092/8]: sasl_ssl://b8-pkc-56d1g.eastus.azure.confluent.cloud:9092/8: Failed to resolve 'b8-pkc-56d1g.eastus.azure.confluent.cloud:9092': nodename nor servname provided, or not known (after 1ms in state CONNECT)\n",
      "%3|1709586762.395|FAIL|rdkafka#producer-1| [thrd:sasl_ssl://b10-pkc-56d1g.eastus.azure.confluent.cloud:9092/10]: sasl_ssl://b10-pkc-56d1g.eastus.azure.confluent.cloud:9092/10: Failed to resolve 'b10-pkc-56d1g.eastus.azure.confluent.cloud:9092': nodename nor servname provided, or not known (after 1ms in state CONNECT)\n",
      "%3|1709586763.399|FAIL|rdkafka#producer-1| [thrd:sasl_ssl://pkc-56d1g.eastus.azure.confluent.cloud:9092/bootstra]: sasl_ssl://pkc-56d1g.eastus.azure.confluent.cloud:9092/bootstrap: Failed to resolve 'pkc-56d1g.eastus.azure.confluent.cloud:9092': nodename nor servname provided, or not known (after 1ms in state CONNECT)\n",
      "%3|1709586764.403|FAIL|rdkafka#producer-1| [thrd:sasl_ssl://b1-pkc-56d1g.eastus.azure.confluent.cloud:9092/1]: sasl_ssl://b1-pkc-56d1g.eastus.azure.confluent.cloud:9092/1: Failed to resolve 'b1-pkc-56d1g.eastus.azure.confluent.cloud:9092': nodename nor servname provided, or not known (after 1ms in state CONNECT, 1 identical error(s) suppressed)\n",
      "%3|1709586765.404|FAIL|rdkafka#producer-1| [thrd:sasl_ssl://b16-pkc-56d1g.eastus.azure.confluent.cloud:9092/16]: sasl_ssl://b16-pkc-56d1g.eastus.azure.confluent.cloud:9092/16: Failed to resolve 'b16-pkc-56d1g.eastus.azure.confluent.cloud:9092': nodename nor servname provided, or not known (after 2ms in state CONNECT, 1 identical error(s) suppressed)\n",
      "%3|1709586766.406|FAIL|rdkafka#producer-1| [thrd:sasl_ssl://b9-pkc-56d1g.eastus.azure.confluent.cloud:9092/9]: sasl_ssl://b9-pkc-56d1g.eastus.azure.confluent.cloud:9092/9: Failed to resolve 'b9-pkc-56d1g.eastus.azure.confluent.cloud:9092': nodename nor servname provided, or not known (after 1ms in state CONNECT, 1 identical error(s) suppressed)\n",
      "%3|1709586767.407|FAIL|rdkafka#producer-1| [thrd:sasl_ssl://b14-pkc-56d1g.eastus.azure.confluent.cloud:9092/14]: sasl_ssl://b14-pkc-56d1g.eastus.azure.confluent.cloud:9092/14: Failed to resolve 'b14-pkc-56d1g.eastus.azure.confluent.cloud:9092': nodename nor servname provided, or not known (after 1ms in state CONNECT)\n",
      "%3|1709586768.411|FAIL|rdkafka#producer-1| [thrd:sasl_ssl://b12-pkc-56d1g.eastus.azure.confluent.cloud:9092/12]: sasl_ssl://b12-pkc-56d1g.eastus.azure.confluent.cloud:9092/12: Failed to resolve 'b12-pkc-56d1g.eastus.azure.confluent.cloud:9092': nodename nor servname provided, or not known (after 1ms in state CONNECT, 1 identical error(s) suppressed)\n",
      "%3|1709586770.414|FAIL|rdkafka#producer-1| [thrd:sasl_ssl://pkc-56d1g.eastus.azure.confluent.cloud:9092/bootstra]: sasl_ssl://pkc-56d1g.eastus.azure.confluent.cloud:9092/bootstrap: Failed to resolve 'pkc-56d1g.eastus.azure.confluent.cloud:9092': nodename nor servname provided, or not known (after 1ms in state CONNECT, 1 identical error(s) suppressed)\n",
      "%3|1709586771.416|FAIL|rdkafka#producer-1| [thrd:sasl_ssl://b3-pkc-56d1g.eastus.azure.confluent.cloud:9092/3]: sasl_ssl://b3-pkc-56d1g.eastus.azure.confluent.cloud:9092/3: Failed to resolve 'b3-pkc-56d1g.eastus.azure.confluent.cloud:9092': nodename nor servname provided, or not known (after 1ms in state CONNECT, 1 identical error(s) suppressed)\n",
      "%3|1709586772.419|FAIL|rdkafka#producer-1| [thrd:sasl_ssl://b15-pkc-56d1g.eastus.azure.confluent.cloud:9092/15]: sasl_ssl://b15-pkc-56d1g.eastus.azure.confluent.cloud:9092/15: Failed to resolve 'b15-pkc-56d1g.eastus.azure.confluent.cloud:9092': nodename nor servname provided, or not known (after 1ms in state CONNECT, 1 identical error(s) suppressed)\n",
      "%3|1709586773.423|FAIL|rdkafka#producer-1| [thrd:sasl_ssl://b14-pkc-56d1g.eastus.azure.confluent.cloud:9092/14]: sasl_ssl://b14-pkc-56d1g.eastus.azure.confluent.cloud:9092/14: Failed to resolve 'b14-pkc-56d1g.eastus.azure.confluent.cloud:9092': nodename nor servname provided, or not known (after 1ms in state CONNECT, 1 identical error(s) suppressed)\n",
      "%3|1709586776.429|FAIL|rdkafka#producer-1| [thrd:sasl_ssl://b10-pkc-56d1g.eastus.azure.confluent.cloud:9092/10]: sasl_ssl://b10-pkc-56d1g.eastus.azure.confluent.cloud:9092/10: Failed to resolve 'b10-pkc-56d1g.eastus.azure.confluent.cloud:9092': nodename nor servname provided, or not known (after 1ms in state CONNECT, 1 identical error(s) suppressed)\n",
      "%3|1709586777.431|FAIL|rdkafka#producer-1| [thrd:sasl_ssl://b2-pkc-56d1g.eastus.azure.confluent.cloud:9092/2]: sasl_ssl://b2-pkc-56d1g.eastus.azure.confluent.cloud:9092/2: Failed to resolve 'b2-pkc-56d1g.eastus.azure.confluent.cloud:9092': nodename nor servname provided, or not known (after 1ms in state CONNECT)\n",
      "%3|1709586779.435|FAIL|rdkafka#producer-1| [thrd:sasl_ssl://b8-pkc-56d1g.eastus.azure.confluent.cloud:9092/8]: sasl_ssl://b8-pkc-56d1g.eastus.azure.confluent.cloud:9092/8: Failed to resolve 'b8-pkc-56d1g.eastus.azure.confluent.cloud:9092': nodename nor servname provided, or not known (after 1ms in state CONNECT, 1 identical error(s) suppressed)\n",
      "%3|1709586780.439|FAIL|rdkafka#producer-1| [thrd:sasl_ssl://b13-pkc-56d1g.eastus.azure.confluent.cloud:9092/13]: sasl_ssl://b13-pkc-56d1g.eastus.azure.confluent.cloud:9092/13: Failed to resolve 'b13-pkc-56d1g.eastus.azure.confluent.cloud:9092': nodename nor servname provided, or not known (after 1ms in state CONNECT, 1 identical error(s) suppressed)\n",
      "%3|1709586783.443|FAIL|rdkafka#producer-1| [thrd:sasl_ssl://b5-pkc-56d1g.eastus.azure.confluent.cloud:9092/5]: sasl_ssl://b5-pkc-56d1g.eastus.azure.confluent.cloud:9092/5: Failed to resolve 'b5-pkc-56d1g.eastus.azure.confluent.cloud:9092': nodename nor servname provided, or not known (after 0ms in state CONNECT)\n",
      "%3|1709586785.450|FAIL|rdkafka#producer-1| [thrd:sasl_ssl://b7-pkc-56d1g.eastus.azure.confluent.cloud:9092/7]: sasl_ssl://b7-pkc-56d1g.eastus.azure.confluent.cloud:9092/7: Failed to resolve 'b7-pkc-56d1g.eastus.azure.confluent.cloud:9092': nodename nor servname provided, or not known (after 1ms in state CONNECT)\n",
      "%3|1709586792.475|FAIL|rdkafka#producer-1| [thrd:sasl_ssl://b4-pkc-56d1g.eastus.azure.confluent.cloud:9092/4]: sasl_ssl://b4-pkc-56d1g.eastus.azure.confluent.cloud:9092/4: Failed to resolve 'b4-pkc-56d1g.eastus.azure.confluent.cloud:9092': nodename nor servname provided, or not known (after 1ms in state CONNECT, 1 identical error(s) suppressed)\n",
      "%3|1709586793.477|FAIL|rdkafka#producer-1| [thrd:sasl_ssl://b17-pkc-56d1g.eastus.azure.confluent.cloud:9092/17]: sasl_ssl://b17-pkc-56d1g.eastus.azure.confluent.cloud:9092/17: Failed to resolve 'b17-pkc-56d1g.eastus.azure.confluent.cloud:9092': nodename nor servname provided, or not known (after 1ms in state CONNECT, 1 identical error(s) suppressed)\n",
      "%3|1709586795.482|FAIL|rdkafka#producer-1| [thrd:sasl_ssl://b2-pkc-56d1g.eastus.azure.confluent.cloud:9092/2]: sasl_ssl://b2-pkc-56d1g.eastus.azure.confluent.cloud:9092/2: Failed to resolve 'b2-pkc-56d1g.eastus.azure.confluent.cloud:9092': nodename nor servname provided, or not known (after 1ms in state CONNECT, 1 identical error(s) suppressed)\n",
      "%3|1709586797.489|FAIL|rdkafka#producer-1| [thrd:sasl_ssl://b7-pkc-56d1g.eastus.azure.confluent.cloud:9092/7]: sasl_ssl://b7-pkc-56d1g.eastus.azure.confluent.cloud:9092/7: Failed to resolve 'b7-pkc-56d1g.eastus.azure.confluent.cloud:9092': nodename nor servname provided, or not known (after 1ms in state CONNECT, 1 identical error(s) suppressed)\n",
      "%3|1709586799.490|FAIL|rdkafka#producer-1| [thrd:sasl_ssl://b0-pkc-56d1g.eastus.azure.confluent.cloud:9092/0]: sasl_ssl://b0-pkc-56d1g.eastus.azure.confluent.cloud:9092/0: Failed to resolve 'b0-pkc-56d1g.eastus.azure.confluent.cloud:9092': nodename nor servname provided, or not known (after 1ms in state CONNECT, 2 identical error(s) suppressed)\n",
      "%3|1709586800.704|FAIL|rdkafka#producer-1| [thrd:sasl_ssl://b10-pkc-56d1g.eastus.azure.confluent.cloud:9092/10]: sasl_ssl://b10-pkc-56d1g.eastus.azure.confluent.cloud:9092/10: Connect to ipv4#20.85.143.244:9092 failed: Connection refused (after 210ms in state CONNECT)\n",
      "%3|1709586801.572|FAIL|rdkafka#producer-1| [thrd:sasl_ssl://b2-pkc-56d1g.eastus.azure.confluent.cloud:9092/2]: sasl_ssl://b2-pkc-56d1g.eastus.azure.confluent.cloud:9092/2: Connect to ipv4#20.237.100.198:9092 failed: Connection refused (after 74ms in state CONNECT)\n",
      "%3|1709586802.547|FAIL|rdkafka#producer-1| [thrd:sasl_ssl://b0-pkc-56d1g.eastus.azure.confluent.cloud:9092/0]: sasl_ssl://b0-pkc-56d1g.eastus.azure.confluent.cloud:9092/0: Connect to ipv4#20.237.101.130:9092 failed: Connection refused (after 46ms in state CONNECT)\n",
      "%3|1709586805.990|FAIL|rdkafka#producer-1| [thrd:sasl_ssl://b12-pkc-56d1g.eastus.azure.confluent.cloud:9092/12]: sasl_ssl://b12-pkc-56d1g.eastus.azure.confluent.cloud:9092/12: Connect to ipv4#20.119.111.206:9092 failed: Connection refused (after 1482ms in state CONNECT)\n",
      "%3|1709586805.990|FAIL|rdkafka#producer-1| [thrd:sasl_ssl://b5-pkc-56d1g.eastus.azure.confluent.cloud:9092/5]: sasl_ssl://b5-pkc-56d1g.eastus.azure.confluent.cloud:9092/5: Connect to ipv4#20.237.100.113:9092 failed: Connection refused (after 2485ms in state CONNECT)\n",
      "%3|1709586809.635|FAIL|rdkafka#producer-1| [thrd:sasl_ssl://pkc-56d1g.eastus.azure.confluent.cloud:9092/bootstra]: sasl_ssl://pkc-56d1g.eastus.azure.confluent.cloud:9092/bootstrap: Connect to ipv4#20.237.15.111:9092 failed: Connection refused (after 2115ms in state CONNECT)\n",
      "%3|1709586810.459|FAIL|rdkafka#producer-1| [thrd:sasl_ssl://b13-pkc-56d1g.eastus.azure.confluent.cloud:9092/13]: sasl_ssl://b13-pkc-56d1g.eastus.azure.confluent.cloud:9092/13: Connect to ipv4#20.242.178.30:9092 failed: Connection refused (after 1935ms in state CONNECT)\n",
      "%3|1709586810.470|FAIL|rdkafka#producer-1| [thrd:sasl_ssl://b9-pkc-56d1g.eastus.azure.confluent.cloud:9092/9]: sasl_ssl://b9-pkc-56d1g.eastus.azure.confluent.cloud:9092/9: Connect to ipv4#20.85.142.76:9092 failed: Connection refused (after 943ms in state CONNECT)\n",
      "%3|1709586810.883|FAIL|rdkafka#producer-1| [thrd:sasl_ssl://b9-pkc-56d1g.eastus.azure.confluent.cloud:9092/9]: sasl_ssl://b9-pkc-56d1g.eastus.azure.confluent.cloud:9092/9: Connect to ipv4#20.85.142.76:9092 failed: Connection refused (after 352ms in state CONNECT, 1 identical error(s) suppressed)\n",
      "%3|1709586811.548|FAIL|rdkafka#producer-1| [thrd:sasl_ssl://b13-pkc-56d1g.eastus.azure.confluent.cloud:9092/13]: sasl_ssl://b13-pkc-56d1g.eastus.azure.confluent.cloud:9092/13: Connect to ipv4#20.242.178.30:9092 failed: Connection refused (after 13ms in state CONNECT, 1 identical error(s) suppressed)\n",
      "%3|1709586813.988|FAIL|rdkafka#producer-1| [thrd:sasl_ssl://b11-pkc-56d1g.eastus.azure.confluent.cloud:9092/11]: sasl_ssl://b11-pkc-56d1g.eastus.azure.confluent.cloud:9092/11: Failed to resolve 'b11-pkc-56d1g.eastus.azure.confluent.cloud:9092': nodename nor servname provided, or not known (after 446ms in state CONNECT, 1 identical error(s) suppressed)\n",
      "%3|1709586814.543|FAIL|rdkafka#producer-1| [thrd:sasl_ssl://b5-pkc-56d1g.eastus.azure.confluent.cloud:9092/5]: sasl_ssl://b5-pkc-56d1g.eastus.azure.confluent.cloud:9092/5: Failed to resolve 'b5-pkc-56d1g.eastus.azure.confluent.cloud:9092': nodename nor servname provided, or not known (after 1ms in state CONNECT)\n",
      "%3|1709586815.548|FAIL|rdkafka#producer-1| [thrd:sasl_ssl://b14-pkc-56d1g.eastus.azure.confluent.cloud:9092/14]: sasl_ssl://b14-pkc-56d1g.eastus.azure.confluent.cloud:9092/14: Failed to resolve 'b14-pkc-56d1g.eastus.azure.confluent.cloud:9092': nodename nor servname provided, or not known (after 1ms in state CONNECT, 5 identical error(s) suppressed)\n",
      "%3|1709586816.548|FAIL|rdkafka#producer-1| [thrd:sasl_ssl://b10-pkc-56d1g.eastus.azure.confluent.cloud:9092/10]: sasl_ssl://b10-pkc-56d1g.eastus.azure.confluent.cloud:9092/10: Failed to resolve 'b10-pkc-56d1g.eastus.azure.confluent.cloud:9092': nodename nor servname provided, or not known (after 0ms in state CONNECT)\n",
      "%3|1709586817.552|FAIL|rdkafka#producer-1| [thrd:sasl_ssl://b12-pkc-56d1g.eastus.azure.confluent.cloud:9092/12]: sasl_ssl://b12-pkc-56d1g.eastus.azure.confluent.cloud:9092/12: Failed to resolve 'b12-pkc-56d1g.eastus.azure.confluent.cloud:9092': nodename nor servname provided, or not known (after 0ms in state CONNECT)\n",
      "%3|1709586818.552|FAIL|rdkafka#producer-1| [thrd:sasl_ssl://b15-pkc-56d1g.eastus.azure.confluent.cloud:9092/15]: sasl_ssl://b15-pkc-56d1g.eastus.azure.confluent.cloud:9092/15: Failed to resolve 'b15-pkc-56d1g.eastus.azure.confluent.cloud:9092': nodename nor servname provided, or not known (after 1ms in state CONNECT, 4 identical error(s) suppressed)\n",
      "%3|1709586819.555|FAIL|rdkafka#producer-1| [thrd:sasl_ssl://b10-pkc-56d1g.eastus.azure.confluent.cloud:9092/10]: sasl_ssl://b10-pkc-56d1g.eastus.azure.confluent.cloud:9092/10: Failed to resolve 'b10-pkc-56d1g.eastus.azure.confluent.cloud:9092': nodename nor servname provided, or not known (after 0ms in state CONNECT, 1 identical error(s) suppressed)\n",
      "%3|1709586821.560|FAIL|rdkafka#producer-1| [thrd:sasl_ssl://pkc-56d1g.eastus.azure.confluent.cloud:9092/bootstra]: sasl_ssl://pkc-56d1g.eastus.azure.confluent.cloud:9092/bootstrap: Failed to resolve 'pkc-56d1g.eastus.azure.confluent.cloud:9092': nodename nor servname provided, or not known (after 0ms in state CONNECT)\n",
      "%3|1709586822.563|FAIL|rdkafka#producer-1| [thrd:sasl_ssl://b5-pkc-56d1g.eastus.azure.confluent.cloud:9092/5]: sasl_ssl://b5-pkc-56d1g.eastus.azure.confluent.cloud:9092/5: Failed to resolve 'b5-pkc-56d1g.eastus.azure.confluent.cloud:9092': nodename nor servname provided, or not known (after 1ms in state CONNECT, 1 identical error(s) suppressed)\n",
      "%3|1709586823.565|FAIL|rdkafka#producer-1| [thrd:sasl_ssl://b9-pkc-56d1g.eastus.azure.confluent.cloud:9092/9]: sasl_ssl://b9-pkc-56d1g.eastus.azure.confluent.cloud:9092/9: Failed to resolve 'b9-pkc-56d1g.eastus.azure.confluent.cloud:9092': nodename nor servname provided, or not known (after 1ms in state CONNECT)\n",
      "%3|1709586825.573|FAIL|rdkafka#producer-1| [thrd:sasl_ssl://b8-pkc-56d1g.eastus.azure.confluent.cloud:9092/8]: sasl_ssl://b8-pkc-56d1g.eastus.azure.confluent.cloud:9092/8: Failed to resolve 'b8-pkc-56d1g.eastus.azure.confluent.cloud:9092': nodename nor servname provided, or not known (after 1ms in state CONNECT, 1 identical error(s) suppressed)\n",
      "%3|1709586826.577|FAIL|rdkafka#producer-1| [thrd:sasl_ssl://b16-pkc-56d1g.eastus.azure.confluent.cloud:9092/16]: sasl_ssl://b16-pkc-56d1g.eastus.azure.confluent.cloud:9092/16: Failed to resolve 'b16-pkc-56d1g.eastus.azure.confluent.cloud:9092': nodename nor servname provided, or not known (after 1ms in state CONNECT, 2 identical error(s) suppressed)\n",
      "%3|1709586829.585|FAIL|rdkafka#producer-1| [thrd:sasl_ssl://b7-pkc-56d1g.eastus.azure.confluent.cloud:9092/7]: sasl_ssl://b7-pkc-56d1g.eastus.azure.confluent.cloud:9092/7: Failed to resolve 'b7-pkc-56d1g.eastus.azure.confluent.cloud:9092': nodename nor servname provided, or not known (after 1ms in state CONNECT, 1 identical error(s) suppressed)\n",
      "%3|1709586831.589|FAIL|rdkafka#producer-1| [thrd:sasl_ssl://b17-pkc-56d1g.eastus.azure.confluent.cloud:9092/17]: sasl_ssl://b17-pkc-56d1g.eastus.azure.confluent.cloud:9092/17: Failed to resolve 'b17-pkc-56d1g.eastus.azure.confluent.cloud:9092': nodename nor servname provided, or not known (after 1ms in state CONNECT, 2 identical error(s) suppressed)\n",
      "%3|1709586832.594|FAIL|rdkafka#producer-1| [thrd:sasl_ssl://pkc-56d1g.eastus.azure.confluent.cloud:9092/bootstra]: sasl_ssl://pkc-56d1g.eastus.azure.confluent.cloud:9092/bootstrap: Failed to resolve 'pkc-56d1g.eastus.azure.confluent.cloud:9092': nodename nor servname provided, or not known (after 1ms in state CONNECT, 1 identical error(s) suppressed)\n",
      "%3|1709590318.635|FAIL|rdkafka#producer-1| [thrd:sasl_ssl://b5-pkc-56d1g.eastus.azure.confluent.cloud:9092/5]: sasl_ssl://b5-pkc-56d1g.eastus.azure.confluent.cloud:9092/5: Failed to resolve 'b5-pkc-56d1g.eastus.azure.confluent.cloud:9092': nodename nor servname provided, or not known (after 559ms in state CONNECT, 1 identical error(s) suppressed)\n",
      "%3|1709590318.638|FAIL|rdkafka#producer-1| [thrd:sasl_ssl://b9-pkc-56d1g.eastus.azure.confluent.cloud:9092/9]: sasl_ssl://b9-pkc-56d1g.eastus.azure.confluent.cloud:9092/9: Failed to resolve 'b9-pkc-56d1g.eastus.azure.confluent.cloud:9092': nodename nor servname provided, or not known (after 1571ms in state CONNECT, 2 identical error(s) suppressed)\n",
      "%3|1709590318.638|FAIL|rdkafka#producer-1| [thrd:sasl_ssl://b13-pkc-56d1g.eastus.azure.confluent.cloud:9092/13]: sasl_ssl://b13-pkc-56d1g.eastus.azure.confluent.cloud:9092/13: Failed to resolve 'b13-pkc-56d1g.eastus.azure.confluent.cloud:9092': nodename nor servname provided, or not known (after 2577ms in state CONNECT)\n",
      "%3|1709590318.639|FAIL|rdkafka#producer-1| [thrd:sasl_ssl://b7-pkc-56d1g.eastus.azure.confluent.cloud:9092/7]: sasl_ssl://b7-pkc-56d1g.eastus.azure.confluent.cloud:9092/7: Failed to resolve 'b7-pkc-56d1g.eastus.azure.confluent.cloud:9092': nodename nor servname provided, or not known (after 4596ms in state CONNECT)\n",
      "%3|1709590318.640|FAIL|rdkafka#producer-1| [thrd:sasl_ssl://b0-pkc-56d1g.eastus.azure.confluent.cloud:9092/0]: sasl_ssl://b0-pkc-56d1g.eastus.azure.confluent.cloud:9092/0: Failed to resolve 'b0-pkc-56d1g.eastus.azure.confluent.cloud:9092': nodename nor servname provided, or not known (after 6607ms in state CONNECT)\n",
      "%3|1709590318.640|FAIL|rdkafka#producer-1| [thrd:sasl_ssl://pkc-56d1g.eastus.azure.confluent.cloud:9092/bootstra]: sasl_ssl://pkc-56d1g.eastus.azure.confluent.cloud:9092/bootstrap: Failed to resolve 'pkc-56d1g.eastus.azure.confluent.cloud:9092': nodename nor servname provided, or not known (after 8611ms in state CONNECT, 1 identical error(s) suppressed)\n",
      "%3|1709590318.640|FAIL|rdkafka#producer-1| [thrd:sasl_ssl://b10-pkc-56d1g.eastus.azure.confluent.cloud:9092/10]: sasl_ssl://b10-pkc-56d1g.eastus.azure.confluent.cloud:9092/10: Failed to resolve 'b10-pkc-56d1g.eastus.azure.confluent.cloud:9092': nodename nor servname provided, or not known (after 9620ms in state CONNECT)\n",
      "%4|1709590318.640|METADATA|rdkafka#producer-1| [thrd:main]: sasl_ssl://b10-pkc-56d1g.eastus.azure.confluent.cloud:9092/10: Metadata request failed: refresh unavailable topics: Local: Host resolution failure (0ms): Permanent\n",
      "%3|1709590318.641|FAIL|rdkafka#producer-1| [thrd:sasl_ssl://b15-pkc-56d1g.eastus.azure.confluent.cloud:9092/15]: sasl_ssl://b15-pkc-56d1g.eastus.azure.confluent.cloud:9092/15: Failed to resolve 'b15-pkc-56d1g.eastus.azure.confluent.cloud:9092': nodename nor servname provided, or not known (after 5606ms in state CONNECT)\n",
      "%3|1709590318.641|FAIL|rdkafka#producer-1| [thrd:sasl_ssl://b17-pkc-56d1g.eastus.azure.confluent.cloud:9092/17]: sasl_ssl://b17-pkc-56d1g.eastus.azure.confluent.cloud:9092/17: Failed to resolve 'b17-pkc-56d1g.eastus.azure.confluent.cloud:9092': nodename nor servname provided, or not known (after 9620ms in state CONNECT)\n",
      "%3|1709590318.641|FAIL|rdkafka#producer-1| [thrd:sasl_ssl://b6-pkc-56d1g.eastus.azure.confluent.cloud:9092/6]: sasl_ssl://b6-pkc-56d1g.eastus.azure.confluent.cloud:9092/6: Failed to resolve 'b6-pkc-56d1g.eastus.azure.confluent.cloud:9092': nodename nor servname provided, or not known (after 3588ms in state CONNECT)\n",
      "%3|1709590318.641|FAIL|rdkafka#producer-1| [thrd:sasl_ssl://b11-pkc-56d1g.eastus.azure.confluent.cloud:9092/11]: sasl_ssl://b11-pkc-56d1g.eastus.azure.confluent.cloud:9092/11: Failed to resolve 'b11-pkc-56d1g.eastus.azure.confluent.cloud:9092': nodename nor servname provided, or not known (after 7611ms in state CONNECT, 1 identical error(s) suppressed)\n",
      "%3|1709590319.086|FAIL|rdkafka#producer-1| [thrd:sasl_ssl://b2-pkc-56d1g.eastus.azure.confluent.cloud:9092/2]: sasl_ssl://b2-pkc-56d1g.eastus.azure.confluent.cloud:9092/2: Failed to resolve 'b2-pkc-56d1g.eastus.azure.confluent.cloud:9092': nodename nor servname provided, or not known (after 1ms in state CONNECT)\n",
      "%3|1709590319.649|FAIL|rdkafka#producer-1| [thrd:sasl_ssl://b10-pkc-56d1g.eastus.azure.confluent.cloud:9092/10]: sasl_ssl://b10-pkc-56d1g.eastus.azure.confluent.cloud:9092/10: Failed to resolve 'b10-pkc-56d1g.eastus.azure.confluent.cloud:9092': nodename nor servname provided, or not known (after 1ms in state CONNECT, 1 identical error(s) suppressed)\n",
      "%4|1709590319.649|METADATA|rdkafka#producer-1| [thrd:main]: sasl_ssl://b10-pkc-56d1g.eastus.azure.confluent.cloud:9092/10: Metadata request failed: broker down: Local: Host resolution failure (0ms): Permanent\n",
      "%3|1709590320.094|FAIL|rdkafka#producer-1| [thrd:sasl_ssl://b1-pkc-56d1g.eastus.azure.confluent.cloud:9092/1]: sasl_ssl://b1-pkc-56d1g.eastus.azure.confluent.cloud:9092/1: Failed to resolve 'b1-pkc-56d1g.eastus.azure.confluent.cloud:9092': nodename nor servname provided, or not known (after 1ms in state CONNECT)\n",
      "%3|1709590321.095|FAIL|rdkafka#producer-1| [thrd:sasl_ssl://b0-pkc-56d1g.eastus.azure.confluent.cloud:9092/0]: sasl_ssl://b0-pkc-56d1g.eastus.azure.confluent.cloud:9092/0: Failed to resolve 'b0-pkc-56d1g.eastus.azure.confluent.cloud:9092': nodename nor servname provided, or not known (after 1ms in state CONNECT, 1 identical error(s) suppressed)\n",
      "%3|1709590801.939|FAIL|rdkafka#producer-1| [thrd:sasl_ssl://pkc-56d1g.eastus.azure.confluent.cloud:9092/bootstra]: sasl_ssl://pkc-56d1g.eastus.azure.confluent.cloud:9092/bootstrap: Failed to resolve 'pkc-56d1g.eastus.azure.confluent.cloud:9092': nodename nor servname provided, or not known (after 1ms in state CONNECT, 1 identical error(s) suppressed)\n",
      "%3|1709590802.947|FAIL|rdkafka#producer-1| [thrd:sasl_ssl://b10-pkc-56d1g.eastus.azure.confluent.cloud:9092/10]: sasl_ssl://b10-pkc-56d1g.eastus.azure.confluent.cloud:9092/10: Failed to resolve 'b10-pkc-56d1g.eastus.azure.confluent.cloud:9092': nodename nor servname provided, or not known (after 1ms in state CONNECT, 1 identical error(s) suppressed)\n",
      "%3|1709590803.950|FAIL|rdkafka#producer-1| [thrd:sasl_ssl://b7-pkc-56d1g.eastus.azure.confluent.cloud:9092/7]: sasl_ssl://b7-pkc-56d1g.eastus.azure.confluent.cloud:9092/7: Failed to resolve 'b7-pkc-56d1g.eastus.azure.confluent.cloud:9092': nodename nor servname provided, or not known (after 1ms in state CONNECT, 1 identical error(s) suppressed)\n",
      "%3|1709590804.958|FAIL|rdkafka#producer-1| [thrd:sasl_ssl://b0-pkc-56d1g.eastus.azure.confluent.cloud:9092/0]: sasl_ssl://b0-pkc-56d1g.eastus.azure.confluent.cloud:9092/0: Failed to resolve 'b0-pkc-56d1g.eastus.azure.confluent.cloud:9092': nodename nor servname provided, or not known (after 1ms in state CONNECT, 1 identical error(s) suppressed)\n",
      "%3|1709590805.959|FAIL|rdkafka#producer-1| [thrd:sasl_ssl://b8-pkc-56d1g.eastus.azure.confluent.cloud:9092/8]: sasl_ssl://b8-pkc-56d1g.eastus.azure.confluent.cloud:9092/8: Failed to resolve 'b8-pkc-56d1g.eastus.azure.confluent.cloud:9092': nodename nor servname provided, or not known (after 0ms in state CONNECT)\n"
     ]
    }
   ],
   "source": [
    "def fetch_and_push_to_kafka(subreddit_name, num_posts=10, sleep_interval=60):\n",
    "    subreddit = reddit.subreddit(subreddit_name)\n",
    "\n",
    "    while True:\n",
    "        try:\n",
    "            # Fetch the latest posts from the subreddit\n",
    "            new_posts = subreddit.new(limit=num_posts)\n",
    "\n",
    "            for post in new_posts:\n",
    "                # Customize the data you want to send to Kafka\n",
    "                data = {\n",
    "                    'title': post.title,\n",
    "                    'url': post.url,\n",
    "                    'created_utc': post.created_utc,\n",
    "                    'author': post.author.name,\n",
    "                    'score': post.score\n",
    "                }\n",
    "                data_bytes = json.dumps(data).encode('utf-8')\n",
    "\n",
    "                # Send data to Kafka topic\n",
    "                print(f\"Sent to Kafka: {data}\")\n",
    "                producer.produce(kafka_topic, value=data_bytes)\n",
    "                producer.poll(1)\n",
    "            # Sleep for the specified interval before making the next request\n",
    "            time.sleep(sleep_interval)\n",
    "\n",
    "        except Exception as e:\n",
    "            print(f\"Error: {str(e)}\")\n",
    "            # Sleep even if there's an error to avoid hitting the API too frequently\n",
    "            time.sleep(sleep_interval)\n",
    "\n",
    "if __name__ == \"__main__\":\n",
    "    subreddit_name = 'twitter'  # Change this to your desired subreddit\n",
    "    fetch_and_push_to_kafka(subreddit_name)"
   ]
  }
 ],
 "metadata": {
  "kernelspec": {
   "display_name": "Python 3",
   "language": "python",
   "name": "python3"
  },
  "language_info": {
   "codemirror_mode": {
    "name": "ipython",
    "version": 3
   },
   "file_extension": ".py",
   "mimetype": "text/x-python",
   "name": "python",
   "nbconvert_exporter": "python",
   "pygments_lexer": "ipython3",
   "version": "3.11.5"
  }
 },
 "nbformat": 4,
 "nbformat_minor": 2
}
